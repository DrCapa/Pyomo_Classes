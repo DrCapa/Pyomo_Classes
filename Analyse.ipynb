{
 "cells": [
  {
   "cell_type": "markdown",
   "id": "5560b4b8",
   "metadata": {},
   "source": [
    "# Intro"
   ]
  },
  {
   "cell_type": "markdown",
   "id": "ce3d82b2",
   "metadata": {},
   "source": [
    "# Libraries"
   ]
  },
  {
   "cell_type": "code",
   "execution_count": 36,
   "id": "7cf48672",
   "metadata": {},
   "outputs": [],
   "source": [
    "import os\n",
    "import re\n",
    "import pandas as pd\n",
    "import matplotlib.pyplot as plt"
   ]
  },
  {
   "cell_type": "markdown",
   "id": "8c91caa7",
   "metadata": {},
   "source": [
    "# Path"
   ]
  },
  {
   "cell_type": "code",
   "execution_count": 26,
   "id": "30eb173e",
   "metadata": {},
   "outputs": [
    {
     "data": {
      "text/plain": [
       "['Logfile_Output.log', 'Timeseries_Output.csv']"
      ]
     },
     "execution_count": 26,
     "metadata": {},
     "output_type": "execute_result"
    }
   ],
   "source": [
    "path_in = '01_Input/'\n",
    "path_out = '02_Output/'\n",
    "os.listdir(path_out)"
   ]
  },
  {
   "cell_type": "markdown",
   "id": "8df0f97d",
   "metadata": {},
   "source": [
    "# Load Data"
   ]
  },
  {
   "cell_type": "markdown",
   "id": "2d563704",
   "metadata": {},
   "source": [
    "Timeseries Data:"
   ]
  },
  {
   "cell_type": "code",
   "execution_count": 22,
   "id": "02f7d39b",
   "metadata": {},
   "outputs": [],
   "source": [
    "df_data = pd.read_csv(path_out+'Timeseries_Output.csv', index_col=0)"
   ]
  },
  {
   "cell_type": "code",
   "execution_count": 35,
   "id": "6849bdca",
   "metadata": {},
   "outputs": [
    {
     "data": {
      "text/html": [
       "<div>\n",
       "<style scoped>\n",
       "    .dataframe tbody tr th:only-of-type {\n",
       "        vertical-align: middle;\n",
       "    }\n",
       "\n",
       "    .dataframe tbody tr th {\n",
       "        vertical-align: top;\n",
       "    }\n",
       "\n",
       "    .dataframe thead th {\n",
       "        text-align: right;\n",
       "    }\n",
       "</style>\n",
       "<table border=\"1\" class=\"dataframe\">\n",
       "  <thead>\n",
       "    <tr style=\"text-align: right;\">\n",
       "      <th></th>\n",
       "      <th>Gas_Price</th>\n",
       "      <th>Power_Price</th>\n",
       "      <th>BHKW_Bin</th>\n",
       "      <th>BHKW_Gas</th>\n",
       "      <th>BHKW_Power</th>\n",
       "      <th>BHKW_Heat</th>\n",
       "    </tr>\n",
       "  </thead>\n",
       "  <tbody>\n",
       "    <tr>\n",
       "      <th>0</th>\n",
       "      <td>16</td>\n",
       "      <td>21</td>\n",
       "      <td>0.0</td>\n",
       "      <td>0.0</td>\n",
       "      <td>0.0</td>\n",
       "      <td>0.0</td>\n",
       "    </tr>\n",
       "    <tr>\n",
       "      <th>1</th>\n",
       "      <td>16</td>\n",
       "      <td>21</td>\n",
       "      <td>0.0</td>\n",
       "      <td>0.0</td>\n",
       "      <td>0.0</td>\n",
       "      <td>0.0</td>\n",
       "    </tr>\n",
       "    <tr>\n",
       "      <th>2</th>\n",
       "      <td>16</td>\n",
       "      <td>20</td>\n",
       "      <td>0.0</td>\n",
       "      <td>0.0</td>\n",
       "      <td>0.0</td>\n",
       "      <td>0.0</td>\n",
       "    </tr>\n",
       "    <tr>\n",
       "      <th>3</th>\n",
       "      <td>16</td>\n",
       "      <td>22</td>\n",
       "      <td>0.0</td>\n",
       "      <td>0.0</td>\n",
       "      <td>0.0</td>\n",
       "      <td>0.0</td>\n",
       "    </tr>\n",
       "    <tr>\n",
       "      <th>4</th>\n",
       "      <td>16</td>\n",
       "      <td>20</td>\n",
       "      <td>0.0</td>\n",
       "      <td>0.0</td>\n",
       "      <td>0.0</td>\n",
       "      <td>0.0</td>\n",
       "    </tr>\n",
       "  </tbody>\n",
       "</table>\n",
       "</div>"
      ],
      "text/plain": [
       "   Gas_Price  Power_Price  BHKW_Bin  BHKW_Gas  BHKW_Power  BHKW_Heat\n",
       "0         16           21       0.0       0.0         0.0        0.0\n",
       "1         16           21       0.0       0.0         0.0        0.0\n",
       "2         16           20       0.0       0.0         0.0        0.0\n",
       "3         16           22       0.0       0.0         0.0        0.0\n",
       "4         16           20       0.0       0.0         0.0        0.0"
      ]
     },
     "execution_count": 35,
     "metadata": {},
     "output_type": "execute_result"
    }
   ],
   "source": [
    "df_data.head()"
   ]
  },
  {
   "cell_type": "markdown",
   "id": "3b1ebe3f",
   "metadata": {},
   "source": [
    "Read Objective Function Value From Logfile:"
   ]
  },
  {
   "cell_type": "code",
   "execution_count": 68,
   "id": "9da13ad2",
   "metadata": {},
   "outputs": [],
   "source": [
    "def extract_obj_func_value(lines):\n",
    "    for line in lines:\n",
    "        if 'Objective value:' in line:\n",
    "            obj = float(re.findall(r\"[-+]?(?:\\d*\\.*\\d+)\", line)[0])\n",
    "    return obj"
   ]
  },
  {
   "cell_type": "code",
   "execution_count": 76,
   "id": "b51a0fa5",
   "metadata": {},
   "outputs": [],
   "source": [
    "infile = path_out+'Logfile_Output.log'\n",
    "with open(infile) as f:\n",
    "    lines = f.readlines()\n",
    "    obj_solver = extract_obj_func_value(lines)"
   ]
  },
  {
   "cell_type": "markdown",
   "id": "448fe82b",
   "metadata": {},
   "source": [
    "# Check Objective Function Value"
   ]
  },
  {
   "cell_type": "code",
   "execution_count": 73,
   "id": "80816cc1",
   "metadata": {},
   "outputs": [],
   "source": [
    "costs = (df_data['BHKW_Gas']*df_data['Gas_Price']).sum()\n",
    "reves = (df_data['BHKW_Power']*df_data['Power_Price']).sum()\n",
    "\n",
    "obj_analysis = costs-reves"
   ]
  },
  {
   "cell_type": "code",
   "execution_count": 75,
   "id": "b9e4a4eb",
   "metadata": {},
   "outputs": [
    {
     "name": "stdout",
     "output_type": "stream",
     "text": [
      "Obj Solver: -115.2\n",
      "Obj Analysis: -115.20000000000005\n",
      "Obj Diff: 4.263256414560601e-14\n"
     ]
    }
   ],
   "source": [
    "print('Obj Solver:', obj_solver)\n",
    "print('Obj Analysis:', obj_analysis)\n",
    "print('Obj Diff:', obj_solver-obj_analysis)"
   ]
  },
  {
   "cell_type": "markdown",
   "id": "30704b6e",
   "metadata": {},
   "source": [
    "# EDA"
   ]
  },
  {
   "cell_type": "code",
   "execution_count": 33,
   "id": "5da68b7f",
   "metadata": {},
   "outputs": [],
   "source": [
    "def plot_timeseries(df_data, name, measure='MW'):\n",
    "    \"\"\" plot single timeseries \"\"\"\n",
    "    y = df_data[name]\n",
    "    x = df_data.index\n",
    "    fig = plt.figure(figsize=(16, 9))\n",
    "    ax = fig.add_subplot(111)\n",
    "    ax.plot(x, y, drawstyle='steps-post',\n",
    "            linewidth=1.2,\n",
    "            label=name)\n",
    "    plt.title(name, loc='left')\n",
    "    plt.xlabel('hour')\n",
    "    plt.ylabel(measure)\n",
    "    plt.grid()"
   ]
  },
  {
   "cell_type": "code",
   "execution_count": 34,
   "id": "4464c353",
   "metadata": {},
   "outputs": [
    {
     "data": {
      "image/png": "[encoded data removed]",
      "text/plain": [
       "<Figure size 1600x900 with 1 Axes>"
      ]
     },
     "metadata": {},
     "output_type": "display_data"
    }
   ],
   "source": [
    "plot_timeseries(df_data, 'BHKW_Power')"
   ]
  }
 ],
 "metadata": {
  "kernelspec": {
   "display_name": "Python 3 (ipykernel)",
   "language": "python",
   "name": "python3"
  },
  "language_info": {
   "codemirror_mode": {
    "name": "ipython",
    "version": 3
   },
   "file_extension": ".py",
   "mimetype": "text/x-python",
   "name": "python",
   "nbconvert_exporter": "python",
   "pygments_lexer": "ipython3",
   "version": "3.11.4"
  },
  "toc": {
   "base_numbering": 1,
   "nav_menu": {},
   "number_sections": true,
   "sideBar": true,
   "skip_h1_title": false,
   "title_cell": "Table of Contents",
   "title_sidebar": "Contents",
   "toc_cell": false,
   "toc_position": {},
   "toc_section_display": true,
   "toc_window_display": false
  }
 },
 "nbformat": 4,
 "nbformat_minor": 5
}
